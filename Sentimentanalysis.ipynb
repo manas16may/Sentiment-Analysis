{
  "nbformat": 4,
  "nbformat_minor": 0,
  "metadata": {
    "colab": {
      "name": "Sentimentanalysis.ipynb",
      "provenance": []
    },
    "kernelspec": {
      "display_name": "Python 3",
      "name": "python3"
    },
    "language_info": {
      "name": "python"
    }
  },
  "cells": [
    {
      "cell_type": "code",
      "metadata": {
        "id": "QZdAllWAVFTS"
      },
      "source": [
        "import pandas as pd\n",
        "import numpy as np"
      ],
      "execution_count": null,
      "outputs": []
    },
    {
      "cell_type": "code",
      "metadata": {
        "colab": {
          "base_uri": "https://localhost:8080/",
          "height": 204
        },
        "id": "tA_MsHOAIEZN",
        "outputId": "10eeb921-cf21-4fdc-840c-c4be3bac03f6"
      },
      "source": [
        "imdb_data=pd.read_csv('/IMDB Dataset.csv')\n",
        "imdb_data=imdb_data[:10000]\n",
        "imdb_data.head()"
      ],
      "execution_count": null,
      "outputs": [
        {
          "output_type": "execute_result",
          "data": {
            "text/html": [
              "<div>\n",
              "<style scoped>\n",
              "    .dataframe tbody tr th:only-of-type {\n",
              "        vertical-align: middle;\n",
              "    }\n",
              "\n",
              "    .dataframe tbody tr th {\n",
              "        vertical-align: top;\n",
              "    }\n",
              "\n",
              "    .dataframe thead th {\n",
              "        text-align: right;\n",
              "    }\n",
              "</style>\n",
              "<table border=\"1\" class=\"dataframe\">\n",
              "  <thead>\n",
              "    <tr style=\"text-align: right;\">\n",
              "      <th></th>\n",
              "      <th>review</th>\n",
              "      <th>sentiment</th>\n",
              "    </tr>\n",
              "  </thead>\n",
              "  <tbody>\n",
              "    <tr>\n",
              "      <th>0</th>\n",
              "      <td>One of the other reviewers has mentioned that ...</td>\n",
              "      <td>positive</td>\n",
              "    </tr>\n",
              "    <tr>\n",
              "      <th>1</th>\n",
              "      <td>A wonderful little production. &lt;br /&gt;&lt;br /&gt;The...</td>\n",
              "      <td>positive</td>\n",
              "    </tr>\n",
              "    <tr>\n",
              "      <th>2</th>\n",
              "      <td>I thought this was a wonderful way to spend ti...</td>\n",
              "      <td>positive</td>\n",
              "    </tr>\n",
              "    <tr>\n",
              "      <th>3</th>\n",
              "      <td>Basically there's a family where a little boy ...</td>\n",
              "      <td>negative</td>\n",
              "    </tr>\n",
              "    <tr>\n",
              "      <th>4</th>\n",
              "      <td>Petter Mattei's \"Love in the Time of Money\" is...</td>\n",
              "      <td>positive</td>\n",
              "    </tr>\n",
              "  </tbody>\n",
              "</table>\n",
              "</div>"
            ],
            "text/plain": [
              "                                              review sentiment\n",
              "0  One of the other reviewers has mentioned that ...  positive\n",
              "1  A wonderful little production. <br /><br />The...  positive\n",
              "2  I thought this was a wonderful way to spend ti...  positive\n",
              "3  Basically there's a family where a little boy ...  negative\n",
              "4  Petter Mattei's \"Love in the Time of Money\" is...  positive"
            ]
          },
          "metadata": {
            "tags": []
          },
          "execution_count": 3
        }
      ]
    },
    {
      "cell_type": "code",
      "metadata": {
        "colab": {
          "base_uri": "https://localhost:8080/"
        },
        "id": "YFORFroLVlXo",
        "outputId": "2ef48c57-a8b5-4213-8947-9a86e62c4350"
      },
      "source": [
        "d={\"sentiment\":{\"positive\":1,\"negative\":0}}\n",
        "imdb_data=imdb_data.replace(d)\n",
        "print(imdb_data[\"sentiment\"])"
      ],
      "execution_count": null,
      "outputs": [
        {
          "output_type": "stream",
          "text": [
            "0       1\n",
            "1       1\n",
            "2       1\n",
            "3       0\n",
            "4       1\n",
            "       ..\n",
            "9995    1\n",
            "9996    0\n",
            "9997    0\n",
            "9998    0\n",
            "9999    1\n",
            "Name: sentiment, Length: 10000, dtype: int64\n"
          ],
          "name": "stdout"
        }
      ]
    },
    {
      "cell_type": "code",
      "metadata": {
        "colab": {
          "base_uri": "https://localhost:8080/"
        },
        "id": "37ZBkxQ1YmcX",
        "outputId": "dc1f9c85-3c70-41a6-ea3f-391eb1560eee"
      },
      "source": [
        "imdb_data['sentiment'].value_counts()"
      ],
      "execution_count": null,
      "outputs": [
        {
          "output_type": "execute_result",
          "data": {
            "text/plain": [
              "1    5028\n",
              "0    4972\n",
              "Name: sentiment, dtype: int64"
            ]
          },
          "metadata": {
            "tags": []
          },
          "execution_count": 5
        }
      ]
    },
    {
      "cell_type": "code",
      "metadata": {
        "id": "ku-skRVOaiAZ"
      },
      "source": [
        "import re\n",
        "#Removing the html strips\n",
        "def strip_html(text):\n",
        "    return re.sub('(<br\\s*/><br\\s*/>)|(\\-)|(\\/)', '', text)\n",
        "#Removing the square brackets\n",
        "def remove_between_square_brackets(text):\n",
        "    return re.sub('[.;:!\\'?,\\\"()\\[\\]]', '', text)\n",
        "#Removing the noisy text\n",
        "def denoise_text(text):\n",
        "    text = strip_html(text)\n",
        "    text = remove_between_square_brackets(text)\n",
        "    return text\n",
        "#Apply function on review column\n",
        "imdb_data['review']=imdb_data['review'].apply(denoise_text)"
      ],
      "execution_count": null,
      "outputs": []
    },
    {
      "cell_type": "code",
      "metadata": {
        "id": "ukasRTdGc0Yp"
      },
      "source": [
        "def remove_special_characters(text, remove_digits=True):\n",
        "    pattern=r'[^a-zA-z0-9\\s]'\n",
        "    text=re.sub(pattern,'',text)\n",
        "    return text\n",
        "#Apply function on review column\n",
        "imdb_data['review']=imdb_data['review'].apply(remove_special_characters)"
      ],
      "execution_count": null,
      "outputs": []
    },
    {
      "cell_type": "code",
      "metadata": {
        "id": "bfLDHU--fE99"
      },
      "source": [
        "import spacy\n",
        "nlp=spacy.load('en', disable=['parser', 'ner'])"
      ],
      "execution_count": null,
      "outputs": []
    },
    {
      "cell_type": "code",
      "metadata": {
        "colab": {
          "base_uri": "https://localhost:8080/"
        },
        "id": "HwnJjTP9q8dO",
        "outputId": "df62cd54-aca7-4ed6-8122-0825dcc61022"
      },
      "source": [
        "import nltk\n",
        "nltk.download('stopwords')\n",
        "nltk.download('punkt')\n",
        "from nltk.corpus import stopwords\n",
        "from nltk.tokenize import word_tokenize \n",
        "stop_words = set(stopwords.words('english'))\n",
        "def remove(text):\n",
        "  word_tokens = word_tokenize(text) \n",
        "  filtered_sentence = [w for w in word_tokens if not w in stop_words]   \n",
        "  filtered_sentence = []  \n",
        "  for w in word_tokens: \n",
        "    if w not in stop_words: \n",
        "        filtered_sentence.append(w) \n",
        "  filter=' '.join(filtered_sentence)\n",
        "  return filter\n",
        "imdb_data['review']=imdb_data['review'].apply(remove)"
      ],
      "execution_count": null,
      "outputs": [
        {
          "output_type": "stream",
          "text": [
            "[nltk_data] Downloading package stopwords to /root/nltk_data...\n",
            "[nltk_data]   Package stopwords is already up-to-date!\n",
            "[nltk_data] Downloading package punkt to /root/nltk_data...\n",
            "[nltk_data]   Package punkt is already up-to-date!\n"
          ],
          "name": "stdout"
        }
      ]
    },
    {
      "cell_type": "code",
      "metadata": {
        "colab": {
          "base_uri": "https://localhost:8080/"
        },
        "id": "Gma7_gDptQSc",
        "outputId": "aef9419a-6792-4b66-80f9-cf104e2bcc49"
      },
      "source": [
        "from nltk.stem import WordNetLemmatizer \n",
        "lemmatizer = WordNetLemmatizer()\n",
        "nltk.download('wordnet')\n",
        "def lemma(text):\n",
        "  word_tokens = word_tokenize(text)\n",
        "  lemmatized_output = ' '.join([lemmatizer.lemmatize(w) for w in word_tokens])\n",
        "  return lemmatized_output\n",
        "imdb_data['review']=imdb_data['review'].apply(lemma)"
      ],
      "execution_count": null,
      "outputs": [
        {
          "output_type": "stream",
          "text": [
            "[nltk_data] Downloading package wordnet to /root/nltk_data...\n",
            "[nltk_data]   Package wordnet is already up-to-date!\n"
          ],
          "name": "stdout"
        }
      ]
    },
    {
      "cell_type": "code",
      "metadata": {
        "id": "2Q_ACgt0w-u5"
      },
      "source": [
        "from sklearn.model_selection import train_test_split\n",
        "X=imdb_data['review']\n",
        "Y=imdb_data['sentiment']\n",
        "X1=imdb_data['review']\n",
        "Y1=imdb_data['sentiment']\n",
        "X_train, X_test, y_train, y_test = train_test_split(X, Y, test_size=0.40, random_state=42)\n",
        "X_train1, X_test1, y_train1, y_test1 = train_test_split(X1, Y1, test_size=0.40, random_state=42)"
      ],
      "execution_count": null,
      "outputs": []
    },
    {
      "cell_type": "code",
      "metadata": {
        "id": "acbhcll1yoXp"
      },
      "source": [
        "X_train=imdb_data.review[:6000]\n",
        "X_test=imdb_data.review[6000:]\n",
        "from sklearn.feature_extraction.text import TfidfVectorizer\n",
        "from sklearn.feature_extraction.text import CountVectorizer\n",
        "stop_words = set(stopwords.words('english'))\n",
        "vectorizer1 = CountVectorizer(binary=False, ngram_range=(1, 3), stop_words=stop_words)\n",
        "cv_train =vectorizer1.fit_transform(X_train)\n",
        "cv_test=vectorizer1.transform(X_test)\n",
        "vectorizer2 =TfidfVectorizer( ngram_range=(1, 3), stop_words=stop_words)\n",
        "tf_train=vectorizer2.fit_transform(X_train)\n",
        "tf_test=vectorizer2.transform(X_test)\n"
      ],
      "execution_count": null,
      "outputs": []
    },
    {
      "cell_type": "code",
      "metadata": {
        "id": "SlAXoQap9TGs"
      },
      "source": [
        "Y_train=imdb_data.sentiment[:6000]\n",
        "Y_test=imdb_data.sentiment[6000:]"
      ],
      "execution_count": null,
      "outputs": []
    },
    {
      "cell_type": "code",
      "metadata": {
        "id": "cttE0-7h8tmJ"
      },
      "source": [
        "from sklearn.linear_model import LogisticRegression\n",
        "from sklearn.svm import LinearSVC\n",
        "from sklearn.naive_bayes import GaussianNB\n",
        "from sklearn.ensemble import RandomForestClassifier\n",
        "from sklearn.ensemble import VotingClassifier"
      ],
      "execution_count": null,
      "outputs": []
    },
    {
      "cell_type": "code",
      "metadata": {
        "id": "JZu6m63j9_ln"
      },
      "source": [
        "log = LogisticRegression(solver=\"lbfgs\", random_state=42)\n",
        "rnd = RandomForestClassifier(n_estimators=100, random_state=42)\n",
        "nvb = GaussianNB()\n",
        "voting = VotingClassifier(estimators=[('lr', log), ('rf', rnd),('nv',nvb)],voting='hard')"
      ],
      "execution_count": null,
      "outputs": []
    },
    {
      "cell_type": "code",
      "metadata": {
        "id": "gXPyE6CWAHbQ",
        "colab": {
          "base_uri": "https://localhost:8080/"
        },
        "outputId": "01b43b3c-31f7-4085-bae8-de80fd621736"
      },
      "source": [
        "from sklearn.metrics import accuracy_score\n",
        "model1=log.fit(cv_train, Y_train)\n",
        "y_pred = model1.predict(cv_test)\n",
        "print(\"logistic regression\", accuracy_score(Y_test, y_pred))"
      ],
      "execution_count": null,
      "outputs": [
        {
          "output_type": "stream",
          "text": [
            "logistic regression 0.86825\n"
          ],
          "name": "stdout"
        }
      ]
    },
    {
      "cell_type": "code",
      "metadata": {
        "id": "7edAJKn3GQMZ",
        "colab": {
          "base_uri": "https://localhost:8080/"
        },
        "outputId": "25cbe719-ab4b-4280-b3fc-cbea0219f0f2"
      },
      "source": [
        "from sklearn.metrics import accuracy_score\n",
        "model2=rnd.fit(cv_train, Y_train)\n",
        "y_pred = model2.predict(cv_test)\n",
        "print(\"random forest\", accuracy_score(Y_test, y_pred))"
      ],
      "execution_count": null,
      "outputs": [
        {
          "output_type": "stream",
          "text": [
            "random forest 0.82775\n"
          ],
          "name": "stdout"
        }
      ]
    },
    {
      "cell_type": "code",
      "metadata": {
        "id": "LDrB25npdwct"
      },
      "source": [
        "#from sklearn.metrics import accuracy_score\n",
        "#model3=nvb.fit(cv_train.toarray(), Y_train.toarray())\n",
        "#y_pred = model3.predict(cv_test.toarray())\n",
        "#print(\"naive bayes\", accuracy_score(Y_test.toarray(), y_pred.toarray()))"
      ],
      "execution_count": null,
      "outputs": []
    },
    {
      "cell_type": "code",
      "metadata": {
        "colab": {
          "base_uri": "https://localhost:8080/"
        },
        "id": "Ff_2RoIATtQH",
        "outputId": "adc42190-b6ad-4564-bc7d-cde5e65071c7"
      },
      "source": [
        "regularization = [0.01, 0.05, 0.25, 0.5, 1]\n",
        "accuracy=[]\n",
        "for c in regularization:\n",
        "    lr = LinearSVC(C=c)\n",
        "    lr.fit(cv_train, Y_train)\n",
        "    accuracy.append(accuracy_score(Y_test, lr.predict(cv_test)))\n",
        "    print(\"Accuracy for C=%s: %s\" % (c, accuracy_score(Y_test, lr.predict(cv_test))))\n",
        "# train final model with highest c\n",
        "highestC = [regularization[i] for i in range(len(regularization)) if accuracy[i] == max(accuracy)][0]\n",
        "final_model = LinearSVC(C = highestC)\n",
        "final_model.fit(cv_train, Y_train)\n",
        "y_pred = final_model.predict(cv_test)\n",
        "print(\"Final Accuracy: %s\" % accuracy_score(Y_test, y_pred))"
      ],
      "execution_count": null,
      "outputs": [
        {
          "output_type": "stream",
          "text": [
            "Accuracy for C=0.01: 0.86925\n",
            "Accuracy for C=0.05: 0.8685\n",
            "Accuracy for C=0.25: 0.86875\n",
            "Accuracy for C=0.5: 0.86825\n"
          ],
          "name": "stdout"
        },
        {
          "output_type": "stream",
          "text": [
            "/usr/local/lib/python3.7/dist-packages/sklearn/svm/_base.py:947: ConvergenceWarning: Liblinear failed to converge, increase the number of iterations.\n",
            "  \"the number of iterations.\", ConvergenceWarning)\n"
          ],
          "name": "stderr"
        },
        {
          "output_type": "stream",
          "text": [
            "Accuracy for C=1: 0.8685\n",
            "Final Accuracy: 0.86925\n"
          ],
          "name": "stdout"
        }
      ]
    },
    {
      "cell_type": "code",
      "metadata": {
        "colab": {
          "base_uri": "https://localhost:8080/"
        },
        "id": "GjBvRu4dU0Wi",
        "outputId": "0d4013fc-29a6-48c6-caa9-c42a02bd27ee"
      },
      "source": [
        "voting_clf=VotingClassifier(estimators=[('lr',log),('rf',rnd),('svc',final_model)],voting='hard')\n",
        "vote=voting_clf.fit(cv_train,Y_train)\n",
        "y_pred=vote.predict(cv_test)\n",
        "print(\"voting classifier\", accuracy_score(Y_test, y_pred))"
      ],
      "execution_count": null,
      "outputs": [
        {
          "output_type": "stream",
          "text": [
            "voting classifier 0.869\n"
          ],
          "name": "stdout"
        }
      ]
    }
  ]
}