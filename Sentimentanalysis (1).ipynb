{
  "nbformat": 4,
  "nbformat_minor": 0,
  "metadata": {
    "colab": {
      "name": "Sentimentanalysis.ipynb",
      "provenance": []
    },
    "kernelspec": {
      "display_name": "Python 3",
      "name": "python3"
    },
    "language_info": {
      "name": "python"
    },
    "accelerator": "TPU"
  },
  "cells": [
    {
      "cell_type": "code",
      "metadata": {
        "id": "QZdAllWAVFTS"
      },
      "source": [
        "import pandas as pd\n",
        "import numpy as np"
      ],
      "execution_count": 27,
      "outputs": []
    },
    {
      "cell_type": "code",
      "metadata": {
        "colab": {
          "base_uri": "https://localhost:8080/",
          "height": 204
        },
        "id": "tA_MsHOAIEZN",
        "outputId": "be98a74a-3108-401c-e1c9-702d56449bf4"
      },
      "source": [
        "imdb_data=pd.read_csv('/content/IMDB Dataset.csv')\n",
        "imdb_data=imdb_data[:5000]\n",
        "imdb_data.head()"
      ],
      "execution_count": 28,
      "outputs": [
        {
          "output_type": "execute_result",
          "data": {
            "text/html": [
              "<div>\n",
              "<style scoped>\n",
              "    .dataframe tbody tr th:only-of-type {\n",
              "        vertical-align: middle;\n",
              "    }\n",
              "\n",
              "    .dataframe tbody tr th {\n",
              "        vertical-align: top;\n",
              "    }\n",
              "\n",
              "    .dataframe thead th {\n",
              "        text-align: right;\n",
              "    }\n",
              "</style>\n",
              "<table border=\"1\" class=\"dataframe\">\n",
              "  <thead>\n",
              "    <tr style=\"text-align: right;\">\n",
              "      <th></th>\n",
              "      <th>review</th>\n",
              "      <th>sentiment</th>\n",
              "    </tr>\n",
              "  </thead>\n",
              "  <tbody>\n",
              "    <tr>\n",
              "      <th>0</th>\n",
              "      <td>One of the other reviewers has mentioned that ...</td>\n",
              "      <td>positive</td>\n",
              "    </tr>\n",
              "    <tr>\n",
              "      <th>1</th>\n",
              "      <td>A wonderful little production. &lt;br /&gt;&lt;br /&gt;The...</td>\n",
              "      <td>positive</td>\n",
              "    </tr>\n",
              "    <tr>\n",
              "      <th>2</th>\n",
              "      <td>I thought this was a wonderful way to spend ti...</td>\n",
              "      <td>positive</td>\n",
              "    </tr>\n",
              "    <tr>\n",
              "      <th>3</th>\n",
              "      <td>Basically there's a family where a little boy ...</td>\n",
              "      <td>negative</td>\n",
              "    </tr>\n",
              "    <tr>\n",
              "      <th>4</th>\n",
              "      <td>Petter Mattei's \"Love in the Time of Money\" is...</td>\n",
              "      <td>positive</td>\n",
              "    </tr>\n",
              "  </tbody>\n",
              "</table>\n",
              "</div>"
            ],
            "text/plain": [
              "                                              review sentiment\n",
              "0  One of the other reviewers has mentioned that ...  positive\n",
              "1  A wonderful little production. <br /><br />The...  positive\n",
              "2  I thought this was a wonderful way to spend ti...  positive\n",
              "3  Basically there's a family where a little boy ...  negative\n",
              "4  Petter Mattei's \"Love in the Time of Money\" is...  positive"
            ]
          },
          "metadata": {
            "tags": []
          },
          "execution_count": 28
        }
      ]
    },
    {
      "cell_type": "code",
      "metadata": {
        "colab": {
          "base_uri": "https://localhost:8080/"
        },
        "id": "YFORFroLVlXo",
        "outputId": "37f142e4-ec65-4e47-9c32-3cf9b1ed2146"
      },
      "source": [
        "d={\"sentiment\":{\"positive\":1,\"negative\":0}}\n",
        "imdb_data=imdb_data.replace(d)\n",
        "print(imdb_data[\"sentiment\"])"
      ],
      "execution_count": 29,
      "outputs": [
        {
          "output_type": "stream",
          "text": [
            "0       1\n",
            "1       1\n",
            "2       1\n",
            "3       0\n",
            "4       1\n",
            "       ..\n",
            "4995    0\n",
            "4996    1\n",
            "4997    1\n",
            "4998    0\n",
            "4999    0\n",
            "Name: sentiment, Length: 5000, dtype: int64\n"
          ],
          "name": "stdout"
        }
      ]
    },
    {
      "cell_type": "code",
      "metadata": {
        "colab": {
          "base_uri": "https://localhost:8080/"
        },
        "id": "37ZBkxQ1YmcX",
        "outputId": "62ff834a-4080-4e5c-da33-4c8e3a2061df"
      },
      "source": [
        "imdb_data['sentiment'].value_counts()"
      ],
      "execution_count": 30,
      "outputs": [
        {
          "output_type": "execute_result",
          "data": {
            "text/plain": [
              "0    2532\n",
              "1    2468\n",
              "Name: sentiment, dtype: int64"
            ]
          },
          "metadata": {
            "tags": []
          },
          "execution_count": 30
        }
      ]
    },
    {
      "cell_type": "code",
      "metadata": {
        "id": "ku-skRVOaiAZ"
      },
      "source": [
        "import re\n",
        "#Removing the html strips\n",
        "def strip_html(text):\n",
        "    return re.sub('(<br\\s*/><br\\s*/>)|(\\-)|(\\/)', '', text)\n",
        "#Removing the square brackets\n",
        "def remove_between_square_brackets(text):\n",
        "    return re.sub('[.;:!\\'?,\\\"()\\[\\]]', '', text)\n",
        "#Removing the noisy text\n",
        "def denoise_text(text):\n",
        "    text = strip_html(text)\n",
        "    text = remove_between_square_brackets(text)\n",
        "    return text\n",
        "#Apply function on review column\n",
        "imdb_data['review']=imdb_data['review'].apply(denoise_text)"
      ],
      "execution_count": 31,
      "outputs": []
    },
    {
      "cell_type": "code",
      "metadata": {
        "id": "ukasRTdGc0Yp"
      },
      "source": [
        "def remove_special_characters(text, remove_digits=True):\n",
        "    pattern=r'[^a-zA-z0-9\\s]'\n",
        "    text=re.sub(pattern,'',text)\n",
        "    return text\n",
        "#Apply function on review column\n",
        "imdb_data['review']=imdb_data['review'].apply(remove_special_characters)"
      ],
      "execution_count": 32,
      "outputs": []
    },
    {
      "cell_type": "code",
      "metadata": {
        "colab": {
          "base_uri": "https://localhost:8080/"
        },
        "id": "HwnJjTP9q8dO",
        "outputId": "44caa59b-d6d4-412f-f9b9-1a4e10344c3c"
      },
      "source": [
        "import nltk\n",
        "nltk.download('stopwords')\n",
        "nltk.download('punkt')\n",
        "from nltk.corpus import stopwords\n",
        "from nltk.tokenize import word_tokenize \n",
        "stop_words = set(stopwords.words('english'))\n",
        "def remove(text):\n",
        "  word_tokens = word_tokenize(text) \n",
        "  filtered_sentence = [w for w in word_tokens if not w in stop_words]   \n",
        "  filtered_sentence = []  \n",
        "  for w in word_tokens: \n",
        "    if w not in stop_words: \n",
        "        filtered_sentence.append(w) \n",
        "  filter=' '.join(filtered_sentence)\n",
        "  return filter\n",
        "imdb_data['review']=imdb_data['review'].apply(remove)"
      ],
      "execution_count": 33,
      "outputs": [
        {
          "output_type": "stream",
          "text": [
            "[nltk_data] Downloading package stopwords to /root/nltk_data...\n",
            "[nltk_data]   Package stopwords is already up-to-date!\n",
            "[nltk_data] Downloading package punkt to /root/nltk_data...\n",
            "[nltk_data]   Package punkt is already up-to-date!\n"
          ],
          "name": "stdout"
        }
      ]
    },
    {
      "cell_type": "code",
      "metadata": {
        "colab": {
          "base_uri": "https://localhost:8080/"
        },
        "id": "Gma7_gDptQSc",
        "outputId": "337f602a-0d43-4999-da41-3854cf05d97d"
      },
      "source": [
        "from nltk.stem import WordNetLemmatizer \n",
        "lemmatizer = WordNetLemmatizer()\n",
        "nltk.download('wordnet')\n",
        "def lemma(text):\n",
        "  word_tokens = word_tokenize(text)\n",
        "  lemmatized_output = ' '.join([lemmatizer.lemmatize(w) for w in word_tokens])\n",
        "  return lemmatized_output\n",
        "imdb_data['review']=imdb_data['review'].apply(lemma)"
      ],
      "execution_count": 34,
      "outputs": [
        {
          "output_type": "stream",
          "text": [
            "[nltk_data] Downloading package wordnet to /root/nltk_data...\n",
            "[nltk_data]   Package wordnet is already up-to-date!\n"
          ],
          "name": "stdout"
        }
      ]
    },
    {
      "cell_type": "code",
      "metadata": {
        "id": "2Q_ACgt0w-u5"
      },
      "source": [
        "from sklearn.model_selection import train_test_split\n",
        "X=imdb_data['review']\n",
        "Y=imdb_data['sentiment']\n",
        "X1=imdb_data['review']\n",
        "Y1=imdb_data['sentiment']\n",
        "X_train, X_test, y_train, y_test = train_test_split(X, Y, test_size=0.40, random_state=42)\n",
        "X_train1, X_test1, y_train1, y_test1 = train_test_split(X1, Y1, test_size=0.40, random_state=42)"
      ],
      "execution_count": 35,
      "outputs": []
    },
    {
      "cell_type": "code",
      "metadata": {
        "id": "acbhcll1yoXp"
      },
      "source": [
        "X_train=imdb_data.review[:3000]\n",
        "X_test=imdb_data.review[3000:]\n",
        "from sklearn.feature_extraction.text import TfidfVectorizer\n",
        "from sklearn.feature_extraction.text import CountVectorizer\n",
        "stop_words = set(stopwords.words('english'))\n",
        "vectorizer1 = CountVectorizer(binary=False, ngram_range=(1, 3), stop_words=stop_words)\n",
        "cv_train =vectorizer1.fit_transform(X_train)\n",
        "cv_test=vectorizer1.transform(X_test)\n",
        "#vectorizer2 =TfidfVectorizer( ngram_range=(1, 3), stop_words=stop_words)\n",
        "#tf_train=vectorizer2.fit_transform(X_train)\n",
        "#tf_test=vectorizer2.transform(X_test)\n"
      ],
      "execution_count": 36,
      "outputs": []
    },
    {
      "cell_type": "code",
      "metadata": {
        "id": "SlAXoQap9TGs"
      },
      "source": [
        "Y_train=imdb_data.sentiment[:3000]\n",
        "Y_test=imdb_data.sentiment[3000:]"
      ],
      "execution_count": 37,
      "outputs": []
    },
    {
      "cell_type": "code",
      "metadata": {
        "id": "cttE0-7h8tmJ"
      },
      "source": [
        "from sklearn.linear_model import LogisticRegression\n",
        "from sklearn.svm import LinearSVC\n",
        "from sklearn.naive_bayes import MultinomialNB\n",
        "from sklearn.ensemble import RandomForestClassifier\n",
        "from sklearn.tree import DecisionTreeClassifier\n",
        "from sklearn.ensemble import VotingClassifier"
      ],
      "execution_count": 38,
      "outputs": []
    },
    {
      "cell_type": "code",
      "metadata": {
        "id": "JZu6m63j9_ln"
      },
      "source": [
        "log = LogisticRegression(solver=\"lbfgs\", random_state=42)\n",
        "rnd = RandomForestClassifier(n_estimators=100, random_state=42)\n",
        "nvb = MultinomialNB()\n",
        "voting = VotingClassifier(estimators=[('lr', log), ('rf', rnd),('nv',nvb)],voting='hard')"
      ],
      "execution_count": 39,
      "outputs": []
    },
    {
      "cell_type": "code",
      "metadata": {
        "id": "gXPyE6CWAHbQ",
        "colab": {
          "base_uri": "https://localhost:8080/"
        },
        "outputId": "826951e7-aa35-4770-e5fe-ac025a7b6109"
      },
      "source": [
        "from sklearn.metrics import accuracy_score\n",
        "model1=log.fit(cv_train, Y_train)\n",
        "y_pred = model1.predict(cv_test)\n",
        "print(\"logistic regression\", accuracy_score(Y_test, y_pred))"
      ],
      "execution_count": 40,
      "outputs": [
        {
          "output_type": "stream",
          "text": [
            "logistic regression 0.8495\n"
          ],
          "name": "stdout"
        }
      ]
    },
    {
      "cell_type": "code",
      "metadata": {
        "id": "LDrB25npdwct",
        "colab": {
          "base_uri": "https://localhost:8080/"
        },
        "outputId": "4ee9f676-dee9-45e5-eb08-fb1dfa5970a0"
      },
      "source": [
        "from sklearn.metrics import accuracy_score\n",
        "model3=nvb.fit(cv_train, Y_train)\n",
        "y_pred = model3.predict(cv_test)\n",
        "print(\"naive bayes\", accuracy_score(Y_test, y_pred))"
      ],
      "execution_count": 41,
      "outputs": [
        {
          "output_type": "stream",
          "text": [
            "naive bayes 0.8575\n"
          ],
          "name": "stdout"
        }
      ]
    },
    {
      "cell_type": "code",
      "metadata": {
        "colab": {
          "base_uri": "https://localhost:8080/"
        },
        "id": "Ff_2RoIATtQH",
        "outputId": "4c2c5e61-db1f-4455-ac1f-bfdb1e829de1"
      },
      "source": [
        "regularization = [0.01, 0.05, 0.25, 0.5, 1]\n",
        "accuracy=[]\n",
        "for c in regularization:\n",
        "    lr = LinearSVC(C=c)\n",
        "    lr.fit(cv_train, Y_train)\n",
        "    accuracy.append(accuracy_score(Y_test, lr.predict(cv_test)))\n",
        "    print(\"Accuracy for C=%s: %s\" % (c, accuracy_score(Y_test, lr.predict(cv_test))))\n",
        "# train final model with highest c\n",
        "highestC = [regularization[i] for i in range(len(regularization)) if accuracy[i] == max(accuracy)][0]\n",
        "final_model = LinearSVC(C = highestC)\n",
        "final_model.fit(cv_train, Y_train)\n",
        "y_pred = final_model.predict(cv_test)\n",
        "print(\"Final Accuracy: %s\" % accuracy_score(Y_test, y_pred))"
      ],
      "execution_count": 42,
      "outputs": [
        {
          "output_type": "stream",
          "text": [
            "Accuracy for C=0.01: 0.8475\n",
            "Accuracy for C=0.05: 0.852\n",
            "Accuracy for C=0.25: 0.852\n",
            "Accuracy for C=0.5: 0.8525\n",
            "Accuracy for C=1: 0.8515\n",
            "Final Accuracy: 0.8525\n"
          ],
          "name": "stdout"
        }
      ]
    },
    {
      "cell_type": "code",
      "metadata": {
        "colab": {
          "base_uri": "https://localhost:8080/"
        },
        "id": "Ig76xkKjgvzg",
        "outputId": "5536b112-c73f-4c72-a8b3-f7c954b98116"
      },
      "source": [
        "dt=DecisionTreeClassifier(random_state=42)\n",
        "model4=dt.fit(cv_train,Y_train)\n",
        "y_pred4 = model4.predict(cv_test)\n",
        "print(\"Decisiontree\", accuracy_score(Y_test, y_pred4))"
      ],
      "execution_count": 43,
      "outputs": [
        {
          "output_type": "stream",
          "text": [
            "Decisiontree 0.6845\n"
          ],
          "name": "stdout"
        }
      ]
    },
    {
      "cell_type": "code",
      "metadata": {
        "id": "1i3BDR1bjyuo"
      },
      "source": [
        "import seaborn as sns\n",
        "import matplotlib.pyplot as plt\n"
      ],
      "execution_count": null,
      "outputs": []
    },
    {
      "cell_type": "code",
      "metadata": {
        "colab": {
          "base_uri": "https://localhost:8080/"
        },
        "id": "ZBRXENIEwBC4",
        "outputId": "2bc9b577-be19-42d0-961e-147be83023f4"
      },
      "source": [
        "alphas.shape"
      ],
      "execution_count": null,
      "outputs": [
        {
          "output_type": "execute_result",
          "data": {
            "text/plain": [
              "(199,)"
            ]
          },
          "metadata": {
            "tags": []
          },
          "execution_count": 21
        }
      ]
    },
    {
      "cell_type": "code",
      "metadata": {
        "colab": {
          "base_uri": "https://localhost:8080/"
        },
        "id": "GjBvRu4dU0Wi",
        "outputId": "0090c193-e132-4aef-930a-5f9e3c14e0cf"
      },
      "source": [
        "voting_clf=VotingClassifier(estimators=[('lr',log),('rf',rnd),('svc',final_model),('dt',model4),('nvb',model3)],voting='hard')\n",
        "vote=voting_clf.fit(cv_train,Y_train)\n",
        "y_pred=vote.predict(cv_test)\n",
        "print(\"voting classifier\", accuracy_score(Y_test, y_pred))"
      ],
      "execution_count": 51,
      "outputs": [
        {
          "output_type": "stream",
          "text": [
            "voting classifier 0.8585\n"
          ],
          "name": "stdout"
        }
      ]
    }
  ]
}